{
  "nbformat": 4,
  "nbformat_minor": 0,
  "metadata": {
    "colab": {
      "provenance": []
    },
    "kernelspec": {
      "name": "python3",
      "display_name": "Python 3"
    },
    "language_info": {
      "name": "python"
    }
  },
  "cells": [
    {
      "cell_type": "code",
      "execution_count": 1,
      "metadata": {
        "id": "f4wAdX6P7a9q"
      },
      "outputs": [],
      "source": [
        "import pandas as pd"
      ]
    },
    {
      "cell_type": "code",
      "source": [
        "df = pd.read_csv('/content/gss.csv')"
      ],
      "metadata": {
        "colab": {
          "base_uri": "https://localhost:8080/"
        },
        "id": "_DzTn-PT7vp9",
        "outputId": "93a67c9d-df45-458a-edcd-3566eaac2d91"
      },
      "execution_count": 2,
      "outputs": [
        {
          "output_type": "stream",
          "name": "stderr",
          "text": [
            "<ipython-input-2-40bbe69a4d3f>:1: DtypeWarning: Columns (20,50,68,81) have mixed types. Specify dtype option on import or set low_memory=False.\n",
            "  df = pd.read_csv('/content/gss.csv')\n"
          ]
        }
      ]
    },
    {
      "cell_type": "code",
      "source": [
        "print(df.head(10))"
      ],
      "metadata": {
        "colab": {
          "base_uri": "https://localhost:8080/"
        },
        "id": "QOjxVI8a7yh5",
        "outputId": "3a0b7345-ff81-44a8-bc0e-fef0d761734b"
      },
      "execution_count": 5,
      "outputs": [
        {
          "output_type": "stream",
          "name": "stdout",
          "text": [
            "   Unnamed: 0  year  id            wrkstat  hrs1  hrs2 evwork    occ  \\\n",
            "0           1  1972   1  working full time   NaN   NaN    NaN  205.0   \n",
            "1           2  1972   2            retired   NaN   NaN    yes  441.0   \n",
            "2           3  1972   3  working part time   NaN   NaN    NaN  270.0   \n",
            "3           4  1972   4  working full time   NaN   NaN    NaN    1.0   \n",
            "4           5  1972   5      keeping house   NaN   NaN    yes  385.0   \n",
            "5           6  1972   6  working full time   NaN   NaN    NaN  281.0   \n",
            "6           7  1972   7  working full time   NaN   NaN    NaN  522.0   \n",
            "7           8  1972   8  working full time   NaN   NaN    NaN  314.0   \n",
            "8           9  1972   9  working part time   NaN   NaN    NaN  912.0   \n",
            "9          10  1972  10  working full time   NaN   NaN    NaN  984.0   \n",
            "\n",
            "   prestige        wrkslf  ...  instype02  instype03  instype04  \\\n",
            "0      50.0  someone else  ...        NaN        NaN        NaN   \n",
            "1      45.0  someone else  ...        NaN        NaN        NaN   \n",
            "2      44.0  someone else  ...        NaN        NaN        NaN   \n",
            "3      57.0  someone else  ...        NaN        NaN        NaN   \n",
            "4      40.0  someone else  ...        NaN        NaN        NaN   \n",
            "5      49.0  someone else  ...        NaN        NaN        NaN   \n",
            "6      41.0  someone else  ...        NaN        NaN        NaN   \n",
            "7      36.0  someone else  ...        NaN        NaN        NaN   \n",
            "8      26.0  someone else  ...        NaN        NaN        NaN   \n",
            "9      18.0  someone else  ...        NaN        NaN        NaN   \n",
            "\n",
            "   totalincentive  wtssps_nea  wtssnrps_nea  wtssps_next  wtssnrps_next  \\\n",
            "0             NaN         NaN           NaN          NaN            NaN   \n",
            "1             NaN         NaN           NaN          NaN            NaN   \n",
            "2             NaN         NaN           NaN          NaN            NaN   \n",
            "3             NaN         NaN           NaN          NaN            NaN   \n",
            "4             NaN         NaN           NaN          NaN            NaN   \n",
            "5             NaN         NaN           NaN          NaN            NaN   \n",
            "6             NaN         NaN           NaN          NaN            NaN   \n",
            "7             NaN         NaN           NaN          NaN            NaN   \n",
            "8             NaN         NaN           NaN          NaN            NaN   \n",
            "9             NaN         NaN           NaN          NaN            NaN   \n",
            "\n",
            "  wtsscomp wtsscompnr  \n",
            "0   0.4446        NaN  \n",
            "1   0.8893        NaN  \n",
            "2   0.8893        NaN  \n",
            "3   0.8893        NaN  \n",
            "4   0.8893        NaN  \n",
            "5   0.4446        NaN  \n",
            "6   0.4446        NaN  \n",
            "7   0.4446        NaN  \n",
            "8   0.4446        NaN  \n",
            "9   0.8893        NaN  \n",
            "\n",
            "[10 rows x 6645 columns]\n"
          ]
        }
      ]
    }
  ]
}